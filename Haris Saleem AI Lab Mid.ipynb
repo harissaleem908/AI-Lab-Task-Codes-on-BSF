{
  "nbformat": 4,
  "nbformat_minor": 0,
  "metadata": {
    "colab": {
      "provenance": []
    },
    "kernelspec": {
      "name": "python3",
      "display_name": "Python 3"
    },
    "language_info": {
      "name": "python"
    }
  },
  "cells": [
    {
      "cell_type": "code",
      "execution_count": 1,
      "metadata": {
        "id": "rPTI5Yk6QSLl"
      },
      "outputs": [],
      "source": [
        "class node:\n",
        "  def __init__(self, state, parent, actions, totalcost):\n",
        "    self.state=state\n",
        "    self.parent=parent\n",
        "    self.actions=actions\n",
        "    self.totalcost=totalcost\n",
        "Graph={\n",
        "        'A':node('A', None, ['B', 'C', 'E'],None),\n",
        "        'B':node('B', None, ['A', 'D', 'E'],None),\n",
        "        'C':node('C', None, ['A', 'F', 'G'],None),\n",
        "        'D':node('D', None, ['B', 'E'],None),\n",
        "        'E':node('E', None, ['A', 'B', 'D'],None),\n",
        "        'F':node('F', None, ['C'],None),\n",
        "        'G':node('G', None, ['C'],None)\n",
        "        }"
      ]
    },
    {
      "cell_type": "code",
      "source": [
        "def DFS():\n",
        "  initialstate = 'A'\n",
        "  goalstate = 'F'\n",
        "  Graph = {\n",
        "        'A': node('A', None, ['B', 'C', 'E'], None),\n",
        "        'B': node('B', None, ['A', 'D', 'E'], None),\n",
        "        'C': node('C', None, ['A', 'F', 'G'], None),\n",
        "        'D': node('D', None, ['B', 'E'], None),\n",
        "        'E': node('E', None, ['A', 'B', 'D'], None),\n",
        "        'F': node('F', None, ['C'], None),\n",
        "        'G': node('G', None, ['C'], None)\n",
        "    }\n",
        "  stack = [initialstate]\n",
        "  explored = []\n",
        "  while len(stack) != 0:\n",
        "    currentnode = stack.pop()\n",
        "    explored.append(currentnode)\n",
        "    for child in Graph[currentnode].actions:\n",
        "      if child not in stack and child not in explored:\n",
        "        Graph[child].parent = currentnode\n",
        "        if Graph[child].state == goalstate:\n",
        "          return actionsequence(Graph, initialstate, goalstate)\n",
        "        stack.append(child)\n",
        "  return None\n",
        "\n",
        "solution = DFS()\n",
        "print(solution)\n"
      ],
      "metadata": {
        "colab": {
          "base_uri": "https://localhost:8080/",
          "height": 339
        },
        "id": "hKyU3nUmQW9l",
        "outputId": "45b10660-d115-4674-cf56-8649a5202a6f"
      },
      "execution_count": 2,
      "outputs": [
        {
          "output_type": "error",
          "ename": "NameError",
          "evalue": "ignored",
          "traceback": [
            "\u001b[0;31m---------------------------------------------------------------------------\u001b[0m",
            "\u001b[0;31mNameError\u001b[0m                                 Traceback (most recent call last)",
            "\u001b[0;32m<ipython-input-2-41a844bf2d98>\u001b[0m in \u001b[0;36m<cell line: 26>\u001b[0;34m()\u001b[0m\n\u001b[1;32m     24\u001b[0m   \u001b[0;32mreturn\u001b[0m \u001b[0;32mNone\u001b[0m\u001b[0;34m\u001b[0m\u001b[0;34m\u001b[0m\u001b[0m\n\u001b[1;32m     25\u001b[0m \u001b[0;34m\u001b[0m\u001b[0m\n\u001b[0;32m---> 26\u001b[0;31m \u001b[0msolution\u001b[0m \u001b[0;34m=\u001b[0m \u001b[0mDFS\u001b[0m\u001b[0;34m(\u001b[0m\u001b[0;34m)\u001b[0m\u001b[0;34m\u001b[0m\u001b[0;34m\u001b[0m\u001b[0m\n\u001b[0m\u001b[1;32m     27\u001b[0m \u001b[0mprint\u001b[0m\u001b[0;34m(\u001b[0m\u001b[0msolution\u001b[0m\u001b[0;34m)\u001b[0m\u001b[0;34m\u001b[0m\u001b[0;34m\u001b[0m\u001b[0m\n",
            "\u001b[0;32m<ipython-input-2-41a844bf2d98>\u001b[0m in \u001b[0;36mDFS\u001b[0;34m()\u001b[0m\n\u001b[1;32m     20\u001b[0m         \u001b[0mGraph\u001b[0m\u001b[0;34m[\u001b[0m\u001b[0mchild\u001b[0m\u001b[0;34m]\u001b[0m\u001b[0;34m.\u001b[0m\u001b[0mparent\u001b[0m \u001b[0;34m=\u001b[0m \u001b[0mcurrentnode\u001b[0m\u001b[0;34m\u001b[0m\u001b[0;34m\u001b[0m\u001b[0m\n\u001b[1;32m     21\u001b[0m         \u001b[0;32mif\u001b[0m \u001b[0mGraph\u001b[0m\u001b[0;34m[\u001b[0m\u001b[0mchild\u001b[0m\u001b[0;34m]\u001b[0m\u001b[0;34m.\u001b[0m\u001b[0mstate\u001b[0m \u001b[0;34m==\u001b[0m \u001b[0mgoalstate\u001b[0m\u001b[0;34m:\u001b[0m\u001b[0;34m\u001b[0m\u001b[0;34m\u001b[0m\u001b[0m\n\u001b[0;32m---> 22\u001b[0;31m           \u001b[0;32mreturn\u001b[0m \u001b[0mactionsequence\u001b[0m\u001b[0;34m(\u001b[0m\u001b[0mGraph\u001b[0m\u001b[0;34m,\u001b[0m \u001b[0minitialstate\u001b[0m\u001b[0;34m,\u001b[0m \u001b[0mgoalstate\u001b[0m\u001b[0;34m)\u001b[0m\u001b[0;34m\u001b[0m\u001b[0;34m\u001b[0m\u001b[0m\n\u001b[0m\u001b[1;32m     23\u001b[0m         \u001b[0mstack\u001b[0m\u001b[0;34m.\u001b[0m\u001b[0mappend\u001b[0m\u001b[0;34m(\u001b[0m\u001b[0mchild\u001b[0m\u001b[0;34m)\u001b[0m\u001b[0;34m\u001b[0m\u001b[0;34m\u001b[0m\u001b[0m\n\u001b[1;32m     24\u001b[0m   \u001b[0;32mreturn\u001b[0m \u001b[0;32mNone\u001b[0m\u001b[0;34m\u001b[0m\u001b[0;34m\u001b[0m\u001b[0m\n",
            "\u001b[0;31mNameError\u001b[0m: name 'actionsequence' is not defined"
          ]
        }
      ]
    },
    {
      "cell_type": "code",
      "source": [
        "class node:\n",
        "  def __init__(self, state, parent, actions, totalcost):\n",
        "    self.state=state\n",
        "    self.parent=parent\n",
        "    self.actions=actions\n",
        "    self.totalcost=totalcost\n",
        "Graph={\n",
        "        'A':node('A', None, ['B', 'C', 'E'],None),\n",
        "        'B':node('B', None, ['A', 'D', 'E'],None),\n",
        "        'C':node('C', None, ['A', 'F', 'G'],None),\n",
        "        'D':node('D', None, ['B', 'E'],None),\n",
        "        'E':node('E', None, ['A', 'B', 'D'],None),\n",
        "        'F':node('F', None, ['C'],None),\n",
        "        'G':node('G', None, ['C'],None)\n",
        "        }\n",
        "def actionsequence (Graph,initialstate,goalstate):\n",
        "  solution=[goalstate]\n",
        "  currentparent=Graph[goalstate].parent\n",
        "  while currentparent!=None:\n",
        "    solution.append(currentparent)\n",
        "    currentparent=Graph[currentparent].parent\n",
        "  solution.reverse()\n",
        "  return solution    \n",
        "def DFS():\n",
        "  initialstate = 'A'\n",
        "  goalstate = 'F'\n",
        "  Graph = {\n",
        "        'A': node('A', None, ['B', 'C', 'E'], None),\n",
        "        'B': node('B', None, ['A', 'D', 'E'], None),\n",
        "        'C': node('C', None, ['A', 'F', 'G'], None),\n",
        "        'D': node('D', None, ['B', 'E'], None),\n",
        "        'E': node('E', None, ['A', 'B', 'D'], None),\n",
        "        'F': node('F', None, ['C'], None),\n",
        "        'G': node('G', None, ['C'], None)\n",
        "    }\n",
        "  stack = [initialstate]\n",
        "  explored = []\n",
        "  while len(stack) != 0:\n",
        "    currentnode = stack.pop()\n",
        "    explored.append(currentnode)\n",
        "    for child in Graph[currentnode].actions:\n",
        "      if child not in stack and child not in explored:\n",
        "        Graph[child].parent = currentnode\n",
        "        if Graph[child].state == goalstate:\n",
        "          return actionsequence(Graph, initialstate, goalstate)\n",
        "        stack.append(child)\n",
        "  return None\n",
        "\n",
        "solution = DFS()\n",
        "print(solution)\n",
        " "
      ],
      "metadata": {
        "colab": {
          "base_uri": "https://localhost:8080/"
        },
        "id": "AvPNntjAQu61",
        "outputId": "3c7acab6-5be3-40b1-be8f-34f11fab9e44"
      },
      "execution_count": 3,
      "outputs": [
        {
          "output_type": "stream",
          "name": "stdout",
          "text": [
            "['A', 'C', 'F']\n"
          ]
        }
      ]
    },
    {
      "cell_type": "code",
      "source": [
        "class node:\n",
        "  def __init__(self, state, parent, actions, totalcost):\n",
        "    self.state=state\n",
        "    self.parent=parent\n",
        "    self.actions=actions\n",
        "    self.totalcost=totalcost\n",
        "\n",
        "def actionsequence (Graph,initialstate,goalstate):\n",
        "  solution=[goalstate]\n",
        "  currentparent=Graph[goalstate].parent\n",
        "  while currentparent!=None:\n",
        "    solution.append(currentparent)\n",
        "    currentparent=Graph[currentparent].parent\n",
        "  solution.reverse()\n",
        "  return solution    \n",
        "\n",
        "def DFS():\n",
        "  initialstate = 'D'  # set initial state to 'D'\n",
        "  goalstate = 'C'     # set goal state to 'C'\n",
        "  Graph = {\n",
        "        'A': node('A', None, ['B', 'C', 'E'], None),\n",
        "        'B': node('B', None, ['A', 'D', 'E'], None),\n",
        "        'C': node('C', None, ['A', 'F', 'G'], None),\n",
        "        'D': node('D', None, ['B', 'E'], None),\n",
        "        'E': node('E', None, ['A', 'B', 'D'], None),\n",
        "        'F': node('F', None, ['C'], None),\n",
        "        'G': node('G', None, ['C'], None)\n",
        "    }\n",
        "  stack = [initialstate]\n",
        "  explored = []\n",
        "  while len(stack) != 0:\n",
        "    currentnode = stack.pop()\n",
        "    explored.append(currentnode)\n",
        "    for child in Graph[currentnode].actions:\n",
        "      if child not in stack and child not in explored:\n",
        "        Graph[child].parent = currentnode\n",
        "        if Graph[child].state == goalstate:\n",
        "          return actionsequence(Graph, initialstate, goalstate)\n",
        "        stack.append(child)\n",
        "  return None\n",
        "\n",
        "solution = DFS()\n",
        "print(solution)\n"
      ],
      "metadata": {
        "colab": {
          "base_uri": "https://localhost:8080/"
        },
        "id": "IYpK4J8QRBuu",
        "outputId": "2aa045e6-bd8b-4d8a-8e20-71ad323e4293"
      },
      "execution_count": 4,
      "outputs": [
        {
          "output_type": "stream",
          "name": "stdout",
          "text": [
            "['D', 'E', 'A', 'C']\n"
          ]
        }
      ]
    },
    {
      "cell_type": "code",
      "source": [
        "from queue import PriorityQueue\n",
        "\n",
        "class Node:\n",
        "    def __init__(self, state, parent, actions, cost):\n",
        "        self.state = state\n",
        "        self.parent = parent\n",
        "        self.actions = actions\n",
        "        self.cost = cost\n",
        "\n",
        "def action_sequence(graph, initial_state, goal_state):\n",
        "    solution = [goal_state]\n",
        "    current_parent = graph[goal_state].parent\n",
        "    while current_parent != None:\n",
        "        solution.append(current_parent)\n",
        "        current_parent = graph[current_parent].parent\n",
        "    solution.reverse()\n",
        "    return solution    \n",
        "\n",
        "def uniform_cost_search():\n",
        "    initial_state = 'C'\n",
        "    goal_state = 'B'\n",
        "    graph = {\n",
        "        'A': Node('A', None, {'B': 2, 'C': 1, 'E': 1}, None),\n",
        "        'B': Node('B', None, {'A': 2, 'D': 1, 'E': 3}, None),\n",
        "        'C': Node('C', None, {'A': 1, 'F': 4, 'G': 3}, None),\n",
        "        'D': Node('D', None, {'B': 1, 'E': 1}, None),\n",
        "        'E': Node('E', None, {'A': 1, 'B': 3, 'D': 1}, None),\n",
        "        'F': Node('F', None, {'C': 4}, None),\n",
        "        'G': Node('G', None, {'C': 3}, None)\n",
        "    }\n",
        "    frontier = PriorityQueue()\n",
        "    frontier.put((0, initial_state)) \n",
        "    explored = {}\n",
        "    explored[initial_state] = 0\n",
        "    while not frontier.empty():\n",
        "        current_node = frontier.get()[1] \n",
        "        if current_node == goal_state:\n",
        "            return action_sequence(graph, initial_state, goal_state)\n",
        "        for child, cost in graph[current_node].actions.items():\n",
        "            new_cost = explored[current_node] + cost\n",
        "            if child not in explored or new_cost < explored[child]:\n",
        "                explored[child] = new_cost\n",
        "                graph[child].parent = current_node\n",
        "                frontier.put((new_cost, child))\n",
        "    return None\n",
        "\n",
        "solution = uniform_cost_search()\n",
        "print(solution)\n"
      ],
      "metadata": {
        "colab": {
          "base_uri": "https://localhost:8080/"
        },
        "id": "dl7zalVlS4dx",
        "outputId": "8fd89877-5411-4c03-9db1-d9ff6c21570f"
      },
      "execution_count": 5,
      "outputs": [
        {
          "output_type": "stream",
          "name": "stdout",
          "text": [
            "['C', 'A', 'B']\n"
          ]
        }
      ]
    },
    {
      "cell_type": "code",
      "source": [
        "class Node:\n",
        "    def __init__(self, name, edges):\n",
        "        self.name = name\n",
        "        self.edges = edges\n",
        "\n",
        "    def __lt__(self, other):\n",
        "        # overload < operator for heap queue comparison\n",
        "        return self.cost < other.cost\n",
        "\n",
        "def uniform_cost_search(start_node, goal_node):\n",
        "    frontier = []\n",
        "    visited = set()\n",
        "\n",
        "    # add start node to frontier\n",
        "    start_node.cost = 0\n",
        "    heapq.heappush(frontier, start_node)\n",
        "\n",
        "    while frontier:\n",
        "        # get node with minimum cost from frontier\n",
        "        current_node = heapq.heappop(frontier)\n",
        "\n",
        "        if current_node == goal_node:\n",
        "            # goal node found\n",
        "            path = []\n",
        "            while current_node.parent:\n",
        "                path.append(current_node.name)\n",
        "                current_node = current_node.parent\n",
        "            path.append(current_node.name)\n",
        "            path.reverse()\n",
        "            return path\n",
        "\n",
        "        # mark current node as visited\n",
        "        visited.add(current_node)\n",
        "\n",
        "        # expand current node\n",
        "        for edge in current_node.edges:\n",
        "            neighbor_node = edge[0]\n",
        "            cost = edge[1]\n",
        "\n",
        "            if neighbor_node not in visited:\n",
        "                # calculate total cost to reach neighbor node\n",
        "                total_cost = current_node.cost + cost\n",
        "\n",
        "                if not any(node.name == neighbor_node.name and total_cost >= node.cost for node in frontier):\n",
        "                    # add neighbor node to frontier\n",
        "                    neighbor_node.cost = total_cost\n",
        "                    neighbor_node.parent = current_node\n",
        "                    heapq.heappush(frontier, neighbor_node)\n",
        "\n",
        "    # goal node not found\n",
        "    return None\n",
        "\n",
        "# define graph\n",
        "graph = {\n",
        "    'Arad': Node('Arad', [('Zerind', 75), ('Timisoara', 118), ('Sibiu', 140)]),\n",
        "    'Zerind': Node('Zerind', [('Arad', 75), ('Oradea', 71)]),\n",
        "    'Oradea': Node('Oradea', [('Zerind', 71), ('Sibiu', 151)]),\n",
        "    'Timisoara': Node('Timisoara', [('Arad', 118), ('Lugoj', 111)]),\n",
        "    'Lugoj': Node('Lugoj', [('Timisoara', 111), ('Mehadia', 70)]),\n",
        "    'Mehadia': Node('Mehadia', [('Lugoj', 70), ('Drobeta', 75)]),\n",
        "    'Drobeta': Node('Drobeta', [('Mehadia', 75), ('Craiova', 120)]),\n",
        "    'Sibiu': Node('Sibiu', [('Arad', 140), ('Oradea', 151), ('Fagaras', 99), ('Rimnicu Vilcea', 80)]),\n",
        "    'Fagaras': Node('Fagaras', [('Sibiu', 99), ('Bucharest', 211)]),\n",
        "    'Rimnicu Vilcea': Node('Rimnicu Vilcea', [('Sibiu', 80), ('Craiova', 146), ('Pitesti', 97)]),\n",
        "    'Craiova': Node('Craiova', [('Drobeta', 120), ('Rimnicu Vilcea', 146), ('Pitesti', 138)]),\n",
        "    'Pitesti': Node('Pitesti', [('Rimnicu Vilcea', 97), ('Craiova', 138), ('Bucharest', 101)]),\n",
        "   \n"
      ],
      "metadata": {
        "colab": {
          "base_uri": "https://localhost:8080/",
          "height": 130
        },
        "id": "ytn0JlCQUPW1",
        "outputId": "25fff541-6cfd-4a2d-c907-c9fcc0fcda05"
      },
      "execution_count": 6,
      "outputs": [
        {
          "output_type": "error",
          "ename": "SyntaxError",
          "evalue": "ignored",
          "traceback": [
            "\u001b[0;36m  File \u001b[0;32m\"<ipython-input-6-0042b726e55d>\"\u001b[0;36m, line \u001b[0;32m67\u001b[0m\n\u001b[0;31m    \u001b[0m\n\u001b[0m    ^\u001b[0m\n\u001b[0;31mSyntaxError\u001b[0m\u001b[0;31m:\u001b[0m incomplete input\n"
          ]
        }
      ]
    },
    {
      "cell_type": "code",
      "source": [
        "\n",
        "\n",
        "class Node:\n",
        "    def __init__(self, name, edges):\n",
        "        self.name = name\n",
        "        self.edges = edges\n",
        "\n",
        "    def __lt__(self, other):\n",
        "        # overload < operator for heap queue comparison\n",
        "        return self.cost < other.cost\n",
        "\n",
        "def uniform_cost_search(start_node, goal_node):\n",
        "    frontier = []\n",
        "    visited = set()\n",
        "\n",
        "    # add start node to frontier\n",
        "    start_node.cost = 0\n",
        "    heapq.heappush(frontier, start_node)\n",
        "\n",
        "    while frontier:\n",
        "        # get node with minimum cost from frontier\n",
        "        current_node = heapq.heappop(frontier)\n",
        "\n",
        "        if current_node == goal_node:\n",
        "            # goal node found\n",
        "            path = []\n",
        "            while current_node.parent:\n",
        "                path.append(current_node.name)\n",
        "                current_node = current_node.parent\n",
        "            path.append(current_node.name)\n",
        "            path.reverse()\n",
        "            return path\n",
        "\n",
        "        # mark current node as visited\n",
        "        visited.add(current_node)\n",
        "\n",
        "        # expand current node\n",
        "        for edge in current_node.edges:\n",
        "            neighbor_node = edge[0]\n",
        "            cost = edge[1]\n",
        "\n",
        "            if neighbor_node not in visited:\n",
        "                # calculate total cost to reach neighbor node\n",
        "                total_cost = current_node.cost + cost\n",
        "\n",
        "                if not any(node.name == neighbor_node.name and total_cost >= node.cost for node in frontier):\n",
        "                    # add neighbor node to frontier\n",
        "                    neighbor_node.cost = total_cost\n",
        "                    neighbor_node.parent = current_node\n",
        "                    heapq.heappush(frontier, neighbor_node)\n",
        "\n",
        "    # goal node not found\n",
        "    return None\n",
        "\n",
        "# define graph\n",
        "graph = {\n",
        "    'Arad': Node('Arad', [('Zerind', 75), ('Timisoara', 118), ('Sibiu', 140)]),\n",
        "    'Zerind': Node('Zerind', [('Arad', 75), ('Oradea', 71)]),\n",
        "    'Oradea': Node('Oradea', [('Zerind', 71), ('Sibiu', 151)]),\n",
        "    'Timisoara': Node('Timisoara', [('Arad', 118), ('Lugoj', 111)]),\n",
        "    'Lugoj': Node('Lugoj', [('Timisoara', 111), ('Mehadia', 70)]),\n",
        "    'Mehadia': Node('Mehadia', [('Lugoj', 70), ('Drobeta', 75)]),\n",
        "    'Drobeta': Node('Drobeta', [('Mehadia', 75), ('Craiova', 120)]),\n",
        "    'Sibiu': Node('Sibiu', [('Arad', 140), ('Oradea', 151), ('Fagaras', 99), ('Rimnicu Vilcea', 80)]),\n",
        "    'Fagaras': Node('Fagaras', [('Sibiu', 99), ('Bucharest', 211)]),\n",
        "    'Rimnicu Vilcea': Node('Rimnicu Vilcea', [('Sibiu', 80), ('Craiova', 146), ('Pitesti', 97)]),\n",
        "    'Craiova': Node('Craiova', [('Drobeta', 120), ('Rimnicu Vilcea', 146), ('Pitesti', 138)]),\n",
        "    'Pitesti': Node('Pitesti', [('Rimnicu Vilcea', 97), ('Craiova', 138)])\n",
        "}\n"
      ],
      "metadata": {
        "id": "7n-P0t72VCCr"
      },
      "execution_count": 11,
      "outputs": []
    },
    {
      "cell_type": "code",
      "source": [],
      "metadata": {
        "id": "JHg-fuQJVqtg"
      },
      "execution_count": null,
      "outputs": []
    }
  ]
}