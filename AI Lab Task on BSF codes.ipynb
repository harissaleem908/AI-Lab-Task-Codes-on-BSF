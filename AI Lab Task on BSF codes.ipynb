{
  "nbformat": 4,
  "nbformat_minor": 0,
  "metadata": {
    "colab": {
      "provenance": []
    },
    "kernelspec": {
      "name": "python3",
      "display_name": "Python 3"
    },
    "language_info": {
      "name": "python"
    }
  },
  "cells": [
    {
      "cell_type": "code",
      "execution_count": 1,
      "metadata": {
        "colab": {
          "base_uri": "https://localhost:8080/",
          "height": 235
        },
        "id": "JS6Fbal_Pf86",
        "outputId": "e060510d-094b-49d3-ce53-35f7971d0b47"
      },
      "outputs": [
        {
          "output_type": "error",
          "ename": "TypeError",
          "evalue": "ignored",
          "traceback": [
            "\u001b[0;31m---------------------------------------------------------------------------\u001b[0m",
            "\u001b[0;31mTypeError\u001b[0m                                 Traceback (most recent call last)",
            "\u001b[0;32m<ipython-input-1-0f0309f47858>\u001b[0m in \u001b[0;36m<cell line: 8>\u001b[0;34m()\u001b[0m\n\u001b[1;32m      6\u001b[0m     \u001b[0mself\u001b[0m\u001b[0;34m.\u001b[0m\u001b[0mtotalCost\u001b[0m \u001b[0;34m=\u001b[0m \u001b[0mtotalCost\u001b[0m\u001b[0;34m\u001b[0m\u001b[0;34m\u001b[0m\u001b[0m\n\u001b[1;32m      7\u001b[0m \u001b[0;34m\u001b[0m\u001b[0m\n\u001b[0;32m----> 8\u001b[0;31m graph = {'A' : Node('A', None, ['B','C','E'], None),\n\u001b[0m\u001b[1;32m      9\u001b[0m          \u001b[0;34m'B'\u001b[0m \u001b[0;34m:\u001b[0m \u001b[0mNode\u001b[0m\u001b[0;34m(\u001b[0m\u001b[0;34m'B'\u001b[0m\u001b[0;34m,\u001b[0m \u001b[0;32mNone\u001b[0m\u001b[0;34m,\u001b[0m \u001b[0;34m[\u001b[0m\u001b[0;34m'A'\u001b[0m\u001b[0;34m,\u001b[0m\u001b[0;34m'D'\u001b[0m\u001b[0;34m,\u001b[0m\u001b[0;34m'E'\u001b[0m\u001b[0;34m]\u001b[0m\u001b[0;34m,\u001b[0m \u001b[0;32mNone\u001b[0m\u001b[0;34m)\u001b[0m\u001b[0;34m,\u001b[0m\u001b[0;34m\u001b[0m\u001b[0;34m\u001b[0m\u001b[0m\n\u001b[1;32m     10\u001b[0m          \u001b[0;34m'C'\u001b[0m \u001b[0;34m:\u001b[0m \u001b[0mNode\u001b[0m\u001b[0;34m(\u001b[0m\u001b[0;34m'C'\u001b[0m\u001b[0;34m,\u001b[0m \u001b[0;32mNone\u001b[0m\u001b[0;34m,\u001b[0m \u001b[0;34m[\u001b[0m\u001b[0;34m'A'\u001b[0m\u001b[0;34m,\u001b[0m\u001b[0;34m'F'\u001b[0m\u001b[0;34m,\u001b[0m\u001b[0;34m'G'\u001b[0m\u001b[0;34m]\u001b[0m\u001b[0;34m,\u001b[0m \u001b[0;32mNone\u001b[0m\u001b[0;34m)\u001b[0m\u001b[0;34m,\u001b[0m\u001b[0;34m\u001b[0m\u001b[0;34m\u001b[0m\u001b[0m\n",
            "\u001b[0;31mTypeError\u001b[0m: Node() takes no arguments"
          ]
        }
      ],
      "source": [
        "class Node:\n",
        "  def init(self,state,parent,actions,totalCost):\n",
        "    self.state = state \n",
        "    self.parent = parent \n",
        "    self.actions = actions\n",
        "    self.totalCost = totalCost\n",
        "\n",
        "graph = {'A' : Node('A', None, ['B','C','E'], None),\n",
        "         'B' : Node('B', None, ['A','D','E'], None),\n",
        "         'C' : Node('C', None, ['A','F','G'], None),\n",
        "         'D' : Node('D', None, ['B','E'], None),\n",
        "         'E' : Node('E', None, ['A','B','D'], None),\n",
        "         'F' : Node('F', None, ['C'], None),\n",
        "         'G' : Node('G', None, ['C'], None),\n",
        "         }"
      ]
    },
    {
      "cell_type": "code",
      "source": [
        "class Node:\n",
        "  def __init__(self,state,parent,actions,totalCost):\n",
        "    self.state = state \n",
        "    self.parent = parent \n",
        "    self.actions = actions\n",
        "    self.totalCost = totalCost\n",
        "\n",
        "graph = {'A': Node('A', None, ['B','C','E'], None),\n",
        "         'B': Node('B', None, ['A','D','E'], None),\n",
        "         'C': Node('C', None, ['A','F','G'], None),\n",
        "         'D': Node('D', None, ['B','E'], None),\n",
        "         'E': Node('E', None, ['A','B','D'], None),\n",
        "         'F': Node('F', None, ['C'], None),\n",
        "         'G': Node('G', None, ['C'], None),\n",
        "         }"
      ],
      "metadata": {
        "colab": {
          "base_uri": "https://localhost:8080/",
          "height": 235
        },
        "id": "rxZVP65LSHHL",
        "outputId": "33332a6f-4d62-402b-a81a-9e67ed0a2548"
      },
      "execution_count": 2,
      "outputs": [
        {
          "output_type": "error",
          "ename": "TypeError",
          "evalue": "ignored",
          "traceback": [
            "\u001b[0;31m---------------------------------------------------------------------------\u001b[0m",
            "\u001b[0;31mTypeError\u001b[0m                                 Traceback (most recent call last)",
            "\u001b[0;32m<ipython-input-2-419338092874>\u001b[0m in \u001b[0;36m<cell line: 8>\u001b[0;34m()\u001b[0m\n\u001b[1;32m      6\u001b[0m     \u001b[0mself\u001b[0m\u001b[0;34m.\u001b[0m\u001b[0mtotalCost\u001b[0m \u001b[0;34m=\u001b[0m \u001b[0mtotalCost\u001b[0m\u001b[0;34m\u001b[0m\u001b[0;34m\u001b[0m\u001b[0m\n\u001b[1;32m      7\u001b[0m \u001b[0;34m\u001b[0m\u001b[0m\n\u001b[0;32m----> 8\u001b[0;31m graph = {'A': Node('A', None, ['B','C','E'], None),\n\u001b[0m\u001b[1;32m      9\u001b[0m          \u001b[0;34m'B'\u001b[0m\u001b[0;34m:\u001b[0m \u001b[0mNode\u001b[0m\u001b[0;34m(\u001b[0m\u001b[0;34m'B'\u001b[0m\u001b[0;34m,\u001b[0m \u001b[0;32mNone\u001b[0m\u001b[0;34m,\u001b[0m \u001b[0;34m[\u001b[0m\u001b[0;34m'A'\u001b[0m\u001b[0;34m,\u001b[0m\u001b[0;34m'D'\u001b[0m\u001b[0;34m,\u001b[0m\u001b[0;34m'E'\u001b[0m\u001b[0;34m]\u001b[0m\u001b[0;34m,\u001b[0m \u001b[0;32mNone\u001b[0m\u001b[0;34m)\u001b[0m\u001b[0;34m,\u001b[0m\u001b[0;34m\u001b[0m\u001b[0;34m\u001b[0m\u001b[0m\n\u001b[1;32m     10\u001b[0m          \u001b[0;34m'C'\u001b[0m\u001b[0;34m:\u001b[0m \u001b[0mNode\u001b[0m\u001b[0;34m(\u001b[0m\u001b[0;34m'C'\u001b[0m\u001b[0;34m,\u001b[0m \u001b[0;32mNone\u001b[0m\u001b[0;34m,\u001b[0m \u001b[0;34m[\u001b[0m\u001b[0;34m'A'\u001b[0m\u001b[0;34m,\u001b[0m\u001b[0;34m'F'\u001b[0m\u001b[0;34m,\u001b[0m\u001b[0;34m'G'\u001b[0m\u001b[0;34m]\u001b[0m\u001b[0;34m,\u001b[0m \u001b[0;32mNone\u001b[0m\u001b[0;34m)\u001b[0m\u001b[0;34m,\u001b[0m\u001b[0;34m\u001b[0m\u001b[0;34m\u001b[0m\u001b[0m\n",
            "\u001b[0;31mTypeError\u001b[0m: Node() takes no arguments"
          ]
        }
      ]
    },
    {
      "cell_type": "code",
      "source": [
        "class Node:\n",
        "  def __init__(self,state,parent,actions,totalCost):\n",
        "    self.state = state \n",
        "    self.parent = parent \n",
        "    self.actions = actions\n",
        "    self.totalCost = totalCost\n",
        "\n",
        "graph = {'A': Node('A', None, ['B','C','E'], None),\n",
        "         'B': Node('B', None, ['A','D','E'], None),\n",
        "         'C': Node('C', None, ['A','F','G'], None),\n",
        "         'D': Node('D', None, ['B','E'], None),\n",
        "         'E': Node('E', None, ['A','B','D'], None),\n",
        "         'F': Node('F', None, ['C'], None),\n",
        "         'G': Node('G', None, ['C'], None),\n",
        "         }"
      ],
      "metadata": {
        "id": "oNC5LRh1TpNU"
      },
      "execution_count": 3,
      "outputs": []
    },
    {
      "cell_type": "code",
      "source": [
        "def BSF():\n",
        "  initialState = 'D'\n",
        "  goalState = 'F'\n",
        "\n",
        "  graph = {'A': Node('A', None, ['B','C','E'], None),\n",
        "         'B': Node('B', None, ['A','D','E'], None),\n",
        "         'C': Node('C', None, ['A','F','G'], None),\n",
        "         'D': Node('D', None, ['B','E'], None),\n",
        "         'E': Node('E', None, ['A','B','D'], None),\n",
        "         'F': Node('F', None, ['C'], None),\n",
        "         'G': Node('G', None, ['C'], None),\n",
        "         }\n",
        "  frontier = [initialState]\n",
        "  explored=[]\n",
        "\n",
        "  while len(frontier)!=0:\n",
        "    currentNode = frontier.pop(0)\n",
        "    explored.append(currentNode)\n",
        "    for child in graph[currentNode].actions:\n",
        "      if child not in frontier and child not in explored:\n",
        "        graph[child].parent=currentNode\n",
        "        if graph[child].state==goalState:\n",
        "           return actionSequence(graph,initialState,goalState)\n",
        "        frontier.append(child)\n",
        "\n",
        "  solution = BSF()\n",
        "  print(solution)\n",
        "\n",
        "def actionSequence(graph, initialState, goalState):\n",
        "  solution=[goalState]\n",
        "  currentParent=graph[goalState].parent\n",
        "  while currentParent!=None:\n",
        "    solution.append(currentParent)\n",
        "    currentParent = graph[currentParent].parent\n",
        "  solution.reverse()\n",
        "  return solution\n"
      ],
      "metadata": {
        "colab": {
          "base_uri": "https://localhost:8080/",
          "height": 356
        },
        "id": "toBEQvxkU9Yz",
        "outputId": "0f3d5b38-a1a0-45d1-99e9-fa875c68a178"
      },
      "execution_count": 4,
      "outputs": [
        {
          "output_type": "error",
          "ename": "NameError",
          "evalue": "ignored",
          "traceback": [
            "\u001b[0;31m---------------------------------------------------------------------------\u001b[0m",
            "\u001b[0;31mNameError\u001b[0m                                 Traceback (most recent call last)",
            "\u001b[0;32m<ipython-input-4-62dcb47915ec>\u001b[0m in \u001b[0;36m<cell line: 26>\u001b[0;34m()\u001b[0m\n\u001b[1;32m     24\u001b[0m         \u001b[0mfrontier\u001b[0m\u001b[0;34m.\u001b[0m\u001b[0mappend\u001b[0m\u001b[0;34m(\u001b[0m\u001b[0mchild\u001b[0m\u001b[0;34m)\u001b[0m\u001b[0;34m\u001b[0m\u001b[0;34m\u001b[0m\u001b[0m\n\u001b[1;32m     25\u001b[0m \u001b[0;34m\u001b[0m\u001b[0m\n\u001b[0;32m---> 26\u001b[0;31m \u001b[0msolution\u001b[0m \u001b[0;34m=\u001b[0m \u001b[0mBSF\u001b[0m\u001b[0;34m(\u001b[0m\u001b[0;34m)\u001b[0m\u001b[0;34m\u001b[0m\u001b[0;34m\u001b[0m\u001b[0m\n\u001b[0m\u001b[1;32m     27\u001b[0m \u001b[0mprint\u001b[0m\u001b[0;34m(\u001b[0m\u001b[0msolution\u001b[0m\u001b[0;34m)\u001b[0m\u001b[0;34m\u001b[0m\u001b[0;34m\u001b[0m\u001b[0m\n\u001b[1;32m     28\u001b[0m \u001b[0;34m\u001b[0m\u001b[0m\n",
            "\u001b[0;32m<ipython-input-4-62dcb47915ec>\u001b[0m in \u001b[0;36mBSF\u001b[0;34m()\u001b[0m\n\u001b[1;32m     21\u001b[0m         \u001b[0mgraph\u001b[0m\u001b[0;34m[\u001b[0m\u001b[0mchild\u001b[0m\u001b[0;34m]\u001b[0m\u001b[0;34m.\u001b[0m\u001b[0mparent\u001b[0m\u001b[0;34m=\u001b[0m\u001b[0mcurrentNode\u001b[0m\u001b[0;34m\u001b[0m\u001b[0;34m\u001b[0m\u001b[0m\n\u001b[1;32m     22\u001b[0m         \u001b[0;32mif\u001b[0m \u001b[0mgraph\u001b[0m\u001b[0;34m[\u001b[0m\u001b[0mchild\u001b[0m\u001b[0;34m]\u001b[0m\u001b[0;34m.\u001b[0m\u001b[0mstate\u001b[0m\u001b[0;34m==\u001b[0m\u001b[0mgoalState\u001b[0m\u001b[0;34m:\u001b[0m\u001b[0;34m\u001b[0m\u001b[0;34m\u001b[0m\u001b[0m\n\u001b[0;32m---> 23\u001b[0;31m            \u001b[0;32mreturn\u001b[0m \u001b[0mactionSequence\u001b[0m\u001b[0;34m(\u001b[0m\u001b[0mgraph\u001b[0m\u001b[0;34m,\u001b[0m\u001b[0minitialState\u001b[0m\u001b[0;34m,\u001b[0m\u001b[0mgoalState\u001b[0m\u001b[0;34m)\u001b[0m\u001b[0;34m\u001b[0m\u001b[0;34m\u001b[0m\u001b[0m\n\u001b[0m\u001b[1;32m     24\u001b[0m         \u001b[0mfrontier\u001b[0m\u001b[0;34m.\u001b[0m\u001b[0mappend\u001b[0m\u001b[0;34m(\u001b[0m\u001b[0mchild\u001b[0m\u001b[0;34m)\u001b[0m\u001b[0;34m\u001b[0m\u001b[0;34m\u001b[0m\u001b[0m\n\u001b[1;32m     25\u001b[0m \u001b[0;34m\u001b[0m\u001b[0m\n",
            "\u001b[0;31mNameError\u001b[0m: name 'actionSequence' is not defined"
          ]
        }
      ]
    },
    {
      "cell_type": "code",
      "source": [
        "class Node:\n",
        "  def __init__(self, state, parent, actions, cost):\n",
        "    self.state = state\n",
        "    self.parent = parent\n",
        "    self.actions = actions\n",
        "    self.cost = cost\n",
        "\n",
        "def BFS():\n",
        "  initialState = 'D'\n",
        "  goalState = 'F'\n",
        "\n",
        "  graph = {\n",
        "      'A': Node('A', None, ['B', 'C', 'E'], None),\n",
        "      'B': Node('B', None, ['A', 'D', 'E'], None),\n",
        "      'C': Node('C', None, ['A', 'F', 'G'], None),\n",
        "      'D': Node('D', None, ['B', 'E'], None),\n",
        "      'E': Node('E', None, ['A', 'B', 'D'], None),\n",
        "      'F': Node('F', None, ['C'], None),\n",
        "      'G': Node('G', None, ['C'], None)\n",
        "  }\n",
        "\n",
        "  frontier = [initialState]\n",
        "  explored = []\n",
        "\n",
        "  while len(frontier) != 0:\n",
        "    currentNode = frontier.pop(0)\n",
        "    explored.append(currentNode)\n",
        "\n",
        "    for child in graph[currentNode].actions:\n",
        "      if child not in frontier and child not in explored:\n",
        "        graph[child].parent = currentNode\n",
        "        if graph[child].state == goalState:\n",
        "          return actionSequence(graph, initialState, goalState)\n",
        "        frontier.append(child)\n",
        "\n",
        "  return None\n",
        "\n",
        "def actionSequence(graph, initialState, goalState):\n",
        "  solution = [goalState]\n",
        "  currentParent = graph[goalState].parent\n",
        "  while currentParent is not None:\n",
        "    solution.append(currentParent)\n",
        "    currentParent = graph[currentParent].parent\n",
        "  solution.reverse()\n",
        "  return solution\n",
        "\n",
        "solution = BFS()\n",
        "print(solution)\n",
        "\n"
      ],
      "metadata": {
        "colab": {
          "base_uri": "https://localhost:8080/"
        },
        "id": "G7iz-l3JasdW",
        "outputId": "ed880b60-e43b-4813-83e5-b3c1eefffe50"
      },
      "execution_count": 5,
      "outputs": [
        {
          "output_type": "stream",
          "name": "stdout",
          "text": [
            "['D', 'B', 'A', 'C', 'F']\n"
          ]
        }
      ]
    },
    {
      "cell_type": "code",
      "source": [],
      "metadata": {
        "id": "VSODoWyXcmX1"
      },
      "execution_count": null,
      "outputs": []
    }
  ]
}